{
 "cells": [
  {
   "cell_type": "markdown",
   "metadata": {
    "colab_type": "text",
    "id": "3hHvV20eD58o"
   },
   "source": [
    "# Nearest Neighbors Problem Set"
   ]
  },
  {
   "cell_type": "code",
   "execution_count": null,
   "metadata": {
    "colab": {},
    "colab_type": "code",
    "id": "z1h_AAj_D4kX"
   },
   "outputs": [],
   "source": [
    "# -- imports --\n",
    "import numpy as np\n",
    "import pandas as pd\n",
    "import matplotlib.pyplot as plt\n",
    "\n",
    "# -- kNN --\n",
    "from sklearn.model_selection import train_test_split\n",
    "from sklearn.neighbors import KNeighborsClassifier\n",
    "from sklearn.metrics import accuracy_score"
   ]
  },
  {
   "cell_type": "markdown",
   "metadata": {
    "colab_type": "text",
    "id": "87tmgzNMb9tV"
   },
   "source": [
    "## Problem 1\n",
    "\n",
    "Consider the following simple data-set:\n",
    "\n",
    "<img src=\"https://github.com/BeaverWorksMedlytics2020/Data_Public/raw/master/Images/Week1/knn_notebook_example_table.png\" alt=\"Example Table\" width=\"600\">\n",
    "\n",
    "Now consider the Sample:\n",
    "    $$X= 4, Y = 4, Z = 2$$"
   ]
  },
  {
   "cell_type": "markdown",
   "metadata": {
    "colab_type": "text",
    "id": "gqjait37Qws0"
   },
   "source": [
    "Using kNN, what is the class for this sample for $k = 1$ and $k = 3?$ Use the Eucledian metric.\n",
    "\n",
    "ANSWERS:\n",
    "\n",
    "\n",
    "$k=1 \\rightarrow 1$\n",
    "\n",
    "$k=3 \\rightarrow 2$"
   ]
  },
  {
   "cell_type": "markdown",
   "metadata": {
    "colab_type": "text",
    "id": "MtE0uiKuTWsI"
   },
   "source": [
    "## Problem 2\n",
    "Earlier in the tutorial we were told that kNN depends on several factors, one of them being $k$. Consider the following datasets below, find the optimal value of $k$ that gives the highest accuracy. Visualize your data! Can you come up with some rule for getting a good idea of what $k$ is? \n",
    "\n",
    "HINT: look for a pattern/bound! Answer should be in terms of the size of the dataset $n$. "
   ]
  },
  {
   "cell_type": "code",
   "execution_count": null,
   "metadata": {
    "colab": {},
    "colab_type": "code",
    "id": "aapncOgUo_5r"
   },
   "outputs": [],
   "source": [
    "# Sovle this problem for each of these datasets\n",
    "from sklearn.datasets import load_iris \n",
    "from sklearn.datasets import load_breast_cancer\n",
    "from sklearn.datasets import load_wine \n",
    "\n",
    "# Load those datasets into some easily accessible variables\n",
    "#The datasets are already normalized, so that saves us some steps!\n",
    "iris = load_iris()                    #iris dataset: size = 150\n",
    "breast_cancer = load_breast_cancer()  #diabetes dataset: size = 569\n",
    "wine = load_wine()                    #wine dataset: size 178\n",
    "\n",
    "# This function will perfom KNN classification for a specified k\n",
    "def split_train_test_dataset(dataset, k, test_size=0.2):\n",
    "    \"\"\"Loads and performs KNN classification on the provided dataset\"\"\"\n",
    "    # Grab and split the dataset\n",
    "    X_train, X_val, y_train, y_val = train_test_split(\n",
    "        dataset.data, dataset.target, test_size=test_size, random_state=0)\n",
    "\n",
    "    # Build a KNN classifier, fit it and test its predictions\n",
    "    knn = KNeighborsClassifier(n_neighbors=k)\n",
    "    knn.fit(X_train, y_train)\n",
    "    print(\"Validation Accuracy is {:5.1%}\".format(\n",
    "        accuracy_score(y_val, knn.predict(X_val))))\n"
   ]
  },
  {
   "cell_type": "code",
   "execution_count": null,
   "metadata": {
    "colab": {},
    "colab_type": "code",
    "id": "lQk-b90Kgz-S"
   },
   "outputs": [],
   "source": [
    "# your code here"
   ]
  },
  {
   "cell_type": "markdown",
   "metadata": {
    "colab_type": "text",
    "id": "n1_EbFlqzjAT"
   },
   "source": [
    "Write a single mathematical expression describing the relationship you found between $n$ (the size of the dataset) and $k$ (the number of datapoints used to classify each validation datum).\n",
    "\n",
    "$$0 \\leq k \\leq \\sqrt{n}$$"
   ]
  },
  {
   "cell_type": "markdown",
   "metadata": {
    "colab_type": "text",
    "id": "-vDZy0F3eyeH"
   },
   "source": [
    "## Problem 3\n",
    "Now, we will **be writing our k-NNA**. Recall that we said a kNN is comprised of a predictions and using those predictions to classify the data. Here we will try to mimic sklearn's kNN methods. We will be using the Pima diabetes dataset. "
   ]
  },
  {
   "cell_type": "markdown",
   "metadata": {
    "colab_type": "text",
    "id": "D9Zjx3wab9te"
   },
   "source": [
    "### Loading and splitting data"
   ]
  },
  {
   "cell_type": "code",
   "execution_count": null,
   "metadata": {
    "colab": {},
    "colab_type": "code",
    "id": "zbs8WICFgITd"
   },
   "outputs": [],
   "source": [
    "# -- loading dataset -- #\n",
    "url = \"https://github.com/BeaverWorksMedlytics2020/Data_Public/raw/master/NotebookExampleData/Week1/diabetes.csv\"\n",
    "names = ['preg', 'plas', 'pres', 'skin', 'test', 'mass', 'pedi', 'age', 'class']\n",
    "data = pd.read_csv(url, names=names)\n",
    "\n",
    "# -- dropping NaN rows -- #\n",
    "invalid = ['plas', 'pres', 'skin', 'test', 'mass']\n",
    "\n",
    "for i in invalid:\n",
    "    data[i].replace(to_replace=0, value=np.nan, inplace=True)\n",
    "    \n",
    "data = data.dropna(axis=0).reset_index(drop=True)"
   ]
  },
  {
   "cell_type": "markdown",
   "metadata": {
    "colab_type": "text",
    "id": "Nv8YlYC4gXpY"
   },
   "source": [
    "Now, let's clearly define which columns will act as explanatory variables, and which column will be the target value, and split the dataset between your training data and testing data. Let's try an 80-20 split and use sklearn's [train_test_split](http://scikit-learn.org/stable/modules/generated/sklearn.model_selection.train_test_split.html) method (set random_state = 0 so we get the same output each time)."
   ]
  },
  {
   "cell_type": "code",
   "execution_count": null,
   "metadata": {
    "colab": {
     "base_uri": "https://localhost:8080/",
     "height": 68
    },
    "colab_type": "code",
    "executionInfo": {
     "elapsed": 930,
     "status": "ok",
     "timestamp": 1594185989529,
     "user": {
      "displayName": "",
      "photoUrl": "",
      "userId": ""
     },
     "user_tz": 240
    },
    "id": "9MXZjxRcgy78",
    "outputId": "faedd415-c6ef-4e9c-b48f-8529e8d8964d"
   },
   "outputs": [
    {
     "name": "stdout",
     "output_type": "stream",
     "text": [
      "There are 250 training samples with 8 features and 250 associated classification labels\n",
      "There are 63 validation samples with 8 features and 63 associated classification labels\n",
      "There are 79 test samples with 8 features and 79 associated classification labels\n"
     ]
    }
   ],
   "source": [
    "from sklearn.model_selection import train_test_split\n",
    "\n",
    "# columns we will use to make predictions with (features!) feel free to play around with these\n",
    "X_cols = ['preg', 'plas', 'pres', 'skin', 'test', 'mass', 'pedi', 'age']\n",
    "# column that we want to predict\n",
    "y_col = 'class'\n",
    "\n",
    "\n",
    "# split X and y into training and testing sets\n",
    "X_train, X_test, y_train, y_test = train_test_split(data[X_cols], data[y_col], test_size=0.2, random_state=0)\n",
    "\n",
    "# further split X and y of training into training and validation sets\n",
    "X_train, X_val, y_train, y_val = train_test_split(X_train, y_train, test_size=0.2, random_state=0)\n",
    "\n",
    "print('There are {} training samples with {} features and {} associated classification labels'.format(*X_train.shape, *y_train.shape))\n",
    "print('There are {} validation samples with {} features and {} associated classification labels'.format(*X_val.shape, *y_val.shape))\n",
    "print('There are {} test samples with {} features and {} associated classification labels'.format(*X_test.shape, *y_test.shape))"
   ]
  },
  {
   "cell_type": "markdown",
   "metadata": {
    "colab_type": "text",
    "id": "De_EJnYKgz_6"
   },
   "source": [
    "### Normalizing Data\n",
    "\n",
    "Let's not forget to normalize the data! We'll use sklearn's StandardScaler normalization like we did before to normalize the training **and** validation/data."
   ]
  },
  {
   "cell_type": "code",
   "execution_count": null,
   "metadata": {
    "colab": {},
    "colab_type": "code",
    "id": "6PD6-ibriBJO"
   },
   "outputs": [],
   "source": [
    "from sklearn.preprocessing import StandardScaler\n",
    "\n",
    "scaler = StandardScaler()\n",
    "\n",
    "for i in list(X_train):\n",
    "    feature_data_train = X_train[i].values.reshape(-1, 1)\n",
    "    scaler.fit(feature_data_train)\n",
    "    X_train[i] = scaler.transform(feature_data_train)\n",
    "\n",
    "for j in list(X_test):\n",
    "    feature_data_test = X_test[j].values.reshape(-1, 1)\n",
    "    scaler.fit(feature_data_test)\n",
    "    X_test[j] = scaler.transform(feature_data_test)\n",
    "    \n",
    "for k in list(X_val):\n",
    "    feature_data_val = X_val[k].values.reshape(-1, 1)\n",
    "    scaler.fit(feature_data_val)\n",
    "    X_val[k] = scaler.transform(feature_data_val)"
   ]
  },
  {
   "cell_type": "markdown",
   "metadata": {
    "colab_type": "text",
    "id": "hnv61aiiitxU"
   },
   "source": [
    "### Writing our kNN\n",
    "\n",
    "Now for the fun part! Fill in the 3 following methods, euclidean_dist(), predict(), and knn().\n",
    "\n",
    "The predict method that we'll make below needs to: \n",
    "1. Compute the euclidean distance between the “new” observation and all the data points in the training set. \n",
    "2. Assign the corresponding label to the observation\n",
    "3. Select the k nearest ones and perform a \"majority vote\""
   ]
  },
  {
   "cell_type": "code",
   "execution_count": null,
   "metadata": {
    "colab": {},
    "colab_type": "code",
    "id": "BEhQUBpTb9tq"
   },
   "outputs": [],
   "source": [
    "# First, create a function that calculates the euclidean distance between 2 data points\n",
    "def euclidean_dist(datum1, datum2):\n",
    "    inner_val = 0.0\n",
    "    \n",
    "    for g in range(datum1.shape[0]):\n",
    "        inner_val += (datum1[g]- datum2[g]) ** 2\n",
    "    \n",
    "    distance = np.sqrt(inner_val)\n",
    "    return(distance)"
   ]
  },
  {
   "cell_type": "code",
   "execution_count": null,
   "metadata": {
    "colab": {},
    "colab_type": "code",
    "id": "FqJkm_ytjFgM"
   },
   "outputs": [],
   "source": [
    "from collections import Counter\n",
    "\n",
    "def predict(x_training, y_training, x_test_sample, k):\n",
    "    \n",
    "    # create list for distances and targets\n",
    "    distances = []\n",
    "    targets = []\n",
    "\n",
    "    # use our previously made euclidean distance function, calculate distance to all samples in training set\n",
    "    for q in list(x_training.index):\n",
    "        distances.append([euclidean_dist(x_test_sample, x_training.loc[q]), q])\n",
    "  \n",
    "    # sort distances (smallest to largest)\n",
    "    distances = sorted(distances)\n",
    "  \n",
    "    # make a list of the k neighbors' targets\n",
    "    for i in range(k):\n",
    "        dix = distances[i][1]\n",
    "        targets.append(y_training.loc[dix])\n",
    "        \n",
    "    # retrieve the most common target\n",
    "    c = Counter(targets)\n",
    "    \n",
    "    return c.most_common()[0][0]"
   ]
  },
  {
   "cell_type": "code",
   "execution_count": null,
   "metadata": {
    "colab": {},
    "colab_type": "code",
    "id": "0IWAGrIUb9tw"
   },
   "outputs": [],
   "source": [
    "def knn(x_training, y_training, x_testing, k):\n",
    "    \n",
    "    predictions = np.empty([x_testing.shape[0],])\n",
    "    \n",
    "    # loop over all test samples\n",
    "    px = 0\n",
    "    for i in list(x_testing.index):\n",
    "        predictions[px] = predict(x_training, y_training, x_testing.loc[i], k)\n",
    "        px+=1\n",
    "        \n",
    "    return predictions.astype(int)"
   ]
  },
  {
   "cell_type": "markdown",
   "metadata": {
    "colab_type": "text",
    "id": "4uhQZPIpjdo9"
   },
   "source": [
    "When done, test your code by running the methods here!"
   ]
  },
  {
   "cell_type": "code",
   "execution_count": null,
   "metadata": {
    "colab": {
     "base_uri": "https://localhost:8080/",
     "height": 51
    },
    "colab_type": "code",
    "executionInfo": {
     "elapsed": 6866,
     "status": "ok",
     "timestamp": 1594185995588,
     "user": {
      "displayName": "",
      "photoUrl": "",
      "userId": ""
     },
     "user_tz": 240
    },
    "id": "AHRJXVr7jcao",
    "outputId": "b7669d9f-0d8b-4a59-d2a3-8d89b1c0d897"
   },
   "outputs": [
    {
     "name": "stdout",
     "output_type": "stream",
     "text": [
      "Took 5.897580146789551 seconds\n",
      "Validation Accuracy is  80.95238095238095\n"
     ]
    }
   ],
   "source": [
    "from sklearn.metrics import accuracy_score\n",
    "import time\n",
    "\n",
    "start = time.time()\n",
    "predictions_slow = knn(X_train, y_train, X_val, k=5)\n",
    "\n",
    "print('Took {} seconds'.format(time.time() - start))\n",
    "print(\"Validation Accuracy is \", accuracy_score(y_val,predictions_slow)*100)"
   ]
  },
  {
   "cell_type": "markdown",
   "metadata": {
    "colab_type": "text",
    "id": "cCFtRVMUb9t1"
   },
   "source": [
    "Check sklearn's predictions on validation data from the tutorial notebook and make sure they match yours. Sklearn is faster, but you should get the same answers."
   ]
  }
 ],
 "metadata": {
  "colab": {
   "authorship_tag": "ABX9TyNPAas2H4VzB0x3rsOXsQ2f",
   "name": "NearestNeighbor_Solutions.ipynb",
   "provenance": []
  },
  "kernelspec": {
   "display_name": "Python 3",
   "language": "python",
   "name": "python3"
  },
  "language_info": {
   "codemirror_mode": {
    "name": "ipython",
    "version": 3
   },
   "file_extension": ".py",
   "mimetype": "text/x-python",
   "name": "python",
   "nbconvert_exporter": "python",
   "pygments_lexer": "ipython3",
   "version": "3.7.3"
  }
 },
 "nbformat": 4,
 "nbformat_minor": 1
}
