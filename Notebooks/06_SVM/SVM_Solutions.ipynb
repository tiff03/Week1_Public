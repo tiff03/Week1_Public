{
 "cells": [
  {
   "cell_type": "markdown",
   "metadata": {
    "colab_type": "text",
    "id": "-UimMCmGe19F"
   },
   "source": [
    "# SVM Tree Worksheet\n"
   ]
  },
  {
   "cell_type": "code",
   "execution_count": 2,
   "metadata": {
    "colab": {
     "autoexec": {
      "startup": false,
      "wait_interval": 0
     }
    },
    "colab_type": "code",
    "id": "kedW02LgKjVL"
   },
   "outputs": [],
   "source": [
    "import numpy as np\n",
    "import pandas as pd\n",
    "from sklearn.model_selection import train_test_split\n",
    "import matplotlib.pyplot as plt\n",
    "from sklearn import svm\n",
    "from sklearn.metrics import accuracy_score\n",
    "from sklearn.svm import SVC\n",
    "from sklearn import metrics"
   ]
  },
  {
   "cell_type": "markdown",
   "metadata": {
    "colab_type": "text",
    "id": "rz35eT5-SMht"
   },
   "source": [
    "Load Pima diabetes dataset and split the data below."
   ]
  },
  {
   "cell_type": "code",
   "execution_count": 4,
   "metadata": {
    "colab": {
     "autoexec": {
      "startup": false,
      "wait_interval": 0
     }
    },
    "colab_type": "code",
    "id": "Ydh9gmDkMGmu"
   },
   "outputs": [],
   "source": [
    "# -- loading dataset -- #\n",
    "url = \"https://raw.githubusercontent.com/BeaverWorksMedlytics2020/Data_Public/master/NotebookExampleData/Week1/diabetes.csv\"\n",
    "names = ['preg', 'plas', 'pres', 'skin', 'test', 'mass', 'pedi', 'age', 'class']\n",
    "data = pd.read_csv(url, names=names)"
   ]
  },
  {
   "cell_type": "code",
   "execution_count": 3,
   "metadata": {
    "colab": {
     "autoexec": {
      "startup": false,
      "wait_interval": 0
     },
     "base_uri": "https://localhost:8080/",
     "height": 195
    },
    "colab_type": "code",
    "executionInfo": {
     "elapsed": 350,
     "status": "ok",
     "timestamp": 1530819110653,
     "user": {
      "displayName": "john passarelli",
      "photoUrl": "https://lh3.googleusercontent.com/a/default-user=s128",
      "userId": "102241934905781120798"
     },
     "user_tz": 240
    },
    "id": "WH7g1K3AMTa8",
    "outputId": "fe8579d1-eb0a-479d-ae81-24737131f956"
   },
   "outputs": [
    {
     "data": {
      "text/html": [
       "<div>\n",
       "<style scoped>\n",
       "    .dataframe tbody tr th:only-of-type {\n",
       "        vertical-align: middle;\n",
       "    }\n",
       "\n",
       "    .dataframe tbody tr th {\n",
       "        vertical-align: top;\n",
       "    }\n",
       "\n",
       "    .dataframe thead th {\n",
       "        text-align: right;\n",
       "    }\n",
       "</style>\n",
       "<table border=\"1\" class=\"dataframe\">\n",
       "  <thead>\n",
       "    <tr style=\"text-align: right;\">\n",
       "      <th></th>\n",
       "      <th>preg</th>\n",
       "      <th>plas</th>\n",
       "      <th>pres</th>\n",
       "      <th>skin</th>\n",
       "      <th>test</th>\n",
       "      <th>mass</th>\n",
       "      <th>pedi</th>\n",
       "      <th>age</th>\n",
       "      <th>class</th>\n",
       "    </tr>\n",
       "  </thead>\n",
       "  <tbody>\n",
       "    <tr>\n",
       "      <th>0</th>\n",
       "      <td>1</td>\n",
       "      <td>89.0</td>\n",
       "      <td>66.0</td>\n",
       "      <td>23.0</td>\n",
       "      <td>94.0</td>\n",
       "      <td>28.1</td>\n",
       "      <td>0.167</td>\n",
       "      <td>21</td>\n",
       "      <td>0</td>\n",
       "    </tr>\n",
       "    <tr>\n",
       "      <th>1</th>\n",
       "      <td>0</td>\n",
       "      <td>137.0</td>\n",
       "      <td>40.0</td>\n",
       "      <td>35.0</td>\n",
       "      <td>168.0</td>\n",
       "      <td>43.1</td>\n",
       "      <td>2.288</td>\n",
       "      <td>33</td>\n",
       "      <td>1</td>\n",
       "    </tr>\n",
       "    <tr>\n",
       "      <th>2</th>\n",
       "      <td>3</td>\n",
       "      <td>78.0</td>\n",
       "      <td>50.0</td>\n",
       "      <td>32.0</td>\n",
       "      <td>88.0</td>\n",
       "      <td>31.0</td>\n",
       "      <td>0.248</td>\n",
       "      <td>26</td>\n",
       "      <td>1</td>\n",
       "    </tr>\n",
       "    <tr>\n",
       "      <th>3</th>\n",
       "      <td>2</td>\n",
       "      <td>197.0</td>\n",
       "      <td>70.0</td>\n",
       "      <td>45.0</td>\n",
       "      <td>543.0</td>\n",
       "      <td>30.5</td>\n",
       "      <td>0.158</td>\n",
       "      <td>53</td>\n",
       "      <td>1</td>\n",
       "    </tr>\n",
       "    <tr>\n",
       "      <th>4</th>\n",
       "      <td>1</td>\n",
       "      <td>189.0</td>\n",
       "      <td>60.0</td>\n",
       "      <td>23.0</td>\n",
       "      <td>846.0</td>\n",
       "      <td>30.1</td>\n",
       "      <td>0.398</td>\n",
       "      <td>59</td>\n",
       "      <td>1</td>\n",
       "    </tr>\n",
       "  </tbody>\n",
       "</table>\n",
       "</div>"
      ],
      "text/plain": [
       "   preg   plas  pres  skin   test  mass   pedi  age  class\n",
       "0     1   89.0  66.0  23.0   94.0  28.1  0.167   21      0\n",
       "1     0  137.0  40.0  35.0  168.0  43.1  2.288   33      1\n",
       "2     3   78.0  50.0  32.0   88.0  31.0  0.248   26      1\n",
       "3     2  197.0  70.0  45.0  543.0  30.5  0.158   53      1\n",
       "4     1  189.0  60.0  23.0  846.0  30.1  0.398   59      1"
      ]
     },
     "execution_count": 3,
     "metadata": {},
     "output_type": "execute_result"
    }
   ],
   "source": [
    "# -- dropping NaN rows -- #\n",
    "invalid = ['plas', 'pres', 'skin', 'test', 'mass']\n",
    "\n",
    "for i in invalid:\n",
    "    data[i].replace(to_replace=0, value=np.nan, inplace=True)\n",
    "    \n",
    "data = data.dropna(axis=0).reset_index(drop=True)\n",
    "\n",
    "data.head()"
   ]
  },
  {
   "cell_type": "markdown",
   "metadata": {
    "colab_type": "text",
    "id": "OVd3yPrQ3LDG"
   },
   "source": [
    "Split data into test and train set with the test_size being 25 %"
   ]
  },
  {
   "cell_type": "code",
   "execution_count": 4,
   "metadata": {
    "colab": {
     "autoexec": {
      "startup": false,
      "wait_interval": 0
     }
    },
    "colab_type": "code",
    "id": "kOR7RCrf5P_k"
   },
   "outputs": [],
   "source": [
    "# columns we will use to make predictions with (features!) feel free to play around with these\n",
    "X_cols = ['preg', 'plas', 'pres', 'skin', 'test', 'mass', 'pedi', 'age']\n",
    "\n",
    "# column that we want to predict\n",
    "y_col = 'class'\n",
    "\n",
    "# 80-20 train-test split of datset\n",
    "test_size = 0.2\n",
    "X_train, X_test, y_train, y_test = train_test_split(data[X_cols], data[y_col], test_size=test_size, random_state=0)\n",
    "\n",
    "# further split X and y of training nto training and validation sets\n",
    "X_train, X_val, y_train, y_val = train_test_split(X_train, y_train, test_size=test_size, random_state=0)"
   ]
  },
  {
   "cell_type": "markdown",
   "metadata": {
    "colab_type": "text",
    "id": "v7lQh69N3YR3"
   },
   "source": [
    "Create a model with sklearn's SVC and a high gamma value (perhaps 1.0)"
   ]
  },
  {
   "cell_type": "code",
   "execution_count": 5,
   "metadata": {
    "colab": {
     "autoexec": {
      "startup": false,
      "wait_interval": 0
     },
     "base_uri": "https://localhost:8080/",
     "height": 84
    },
    "colab_type": "code",
    "executionInfo": {
     "elapsed": 318,
     "status": "ok",
     "timestamp": 1530819112019,
     "user": {
      "displayName": "john passarelli",
      "photoUrl": "https://lh3.googleusercontent.com/a/default-user=s128",
      "userId": "102241934905781120798"
     },
     "user_tz": 240
    },
    "id": "9rYQecrQ8yjn",
    "outputId": "11374225-4764-426f-dee3-9cae4fe9ce6f"
   },
   "outputs": [
    {
     "data": {
      "text/plain": [
       "SVC(C=1.0, cache_size=200, class_weight=None, coef0=0.0,\n",
       "  decision_function_shape='ovr', degree=3, gamma=1, kernel='rbf',\n",
       "  max_iter=-1, probability=False, random_state=None, shrinking=True,\n",
       "  tol=0.001, verbose=False)"
      ]
     },
     "execution_count": 5,
     "metadata": {},
     "output_type": "execute_result"
    }
   ],
   "source": [
    "svm_high = SVC(gamma=1)\n",
    "svm_high.fit(X_train, y_train)"
   ]
  },
  {
   "cell_type": "markdown",
   "metadata": {
    "colab_type": "text",
    "id": "qdiqjUje4ll-"
   },
   "source": [
    "Print accuracy of training and validation data"
   ]
  },
  {
   "cell_type": "code",
   "execution_count": 6,
   "metadata": {
    "colab": {
     "autoexec": {
      "startup": false,
      "wait_interval": 0
     },
     "base_uri": "https://localhost:8080/",
     "height": 50
    },
    "colab_type": "code",
    "executionInfo": {
     "elapsed": 314,
     "status": "ok",
     "timestamp": 1530819112394,
     "user": {
      "displayName": "john passarelli",
      "photoUrl": "https://lh3.googleusercontent.com/a/default-user=s128",
      "userId": "102241934905781120798"
     },
     "user_tz": 240
    },
    "id": "O5LqepHk9S0M",
    "outputId": "e14e104b-a46d-4aa4-92f1-e31be5017802"
   },
   "outputs": [
    {
     "name": "stdout",
     "output_type": "stream",
     "text": [
      "Training Accuracy is  100.0\n",
      "Validation Accuracy is  63.49206349206349\n"
     ]
    }
   ],
   "source": [
    "#printing accuracy of testing & training data\n",
    "y_train_high_pred=svm_high.predict(X_train)\n",
    "print(\"Training Accuracy is \", accuracy_score(y_train, y_train_high_pred)*100)\n",
    "y_val_high_pred=svm_high.predict(X_val)\n",
    "print(\"Validation Accuracy is \", accuracy_score(y_val,y_val_high_pred)*100)"
   ]
  },
  {
   "cell_type": "markdown",
   "metadata": {
    "colab_type": "text",
    "id": "fC7VlLtI3ZjQ"
   },
   "source": [
    "Create a model with sklearn's SVC and a high low value (perhaps .001)"
   ]
  },
  {
   "cell_type": "code",
   "execution_count": 7,
   "metadata": {
    "colab": {
     "autoexec": {
      "startup": false,
      "wait_interval": 0
     },
     "base_uri": "https://localhost:8080/",
     "height": 84
    },
    "colab_type": "code",
    "executionInfo": {
     "elapsed": 528,
     "status": "ok",
     "timestamp": 1530819112957,
     "user": {
      "displayName": "john passarelli",
      "photoUrl": "https://lh3.googleusercontent.com/a/default-user=s128",
      "userId": "102241934905781120798"
     },
     "user_tz": 240
    },
    "id": "3vVHnWuY9pFN",
    "outputId": "80d4bb35-20cd-4e6e-ba31-69f7d8f1a130"
   },
   "outputs": [
    {
     "data": {
      "text/plain": [
       "SVC(C=2, cache_size=200, class_weight=None, coef0=0.0,\n",
       "  decision_function_shape='ovr', degree=3, gamma=0.001, kernel='rbf',\n",
       "  max_iter=-1, probability=False, random_state=None, shrinking=True,\n",
       "  tol=0.001, verbose=False)"
      ]
     },
     "execution_count": 7,
     "metadata": {},
     "output_type": "execute_result"
    }
   ],
   "source": [
    "svm_low = SVC(gamma=.001, C=2)\n",
    "svm_low.fit(X_train, y_train)"
   ]
  },
  {
   "cell_type": "markdown",
   "metadata": {
    "colab_type": "text",
    "id": "JQB-U50H4mIx"
   },
   "source": [
    "Print accuracy of training and validation data"
   ]
  },
  {
   "cell_type": "code",
   "execution_count": 8,
   "metadata": {
    "colab": {
     "autoexec": {
      "startup": false,
      "wait_interval": 0
     },
     "base_uri": "https://localhost:8080/",
     "height": 50
    },
    "colab_type": "code",
    "executionInfo": {
     "elapsed": 359,
     "status": "ok",
     "timestamp": 1530819113375,
     "user": {
      "displayName": "john passarelli",
      "photoUrl": "https://lh3.googleusercontent.com/a/default-user=s128",
      "userId": "102241934905781120798"
     },
     "user_tz": 240
    },
    "id": "tr4DGB309s9a",
    "outputId": "c4f6e52a-4801-4550-d72f-f480079ade81"
   },
   "outputs": [
    {
     "name": "stdout",
     "output_type": "stream",
     "text": [
      "Training Accuracy is  88.8\n",
      "Validation Accuracy is  73.01587301587301\n"
     ]
    }
   ],
   "source": [
    "#printing accuracy of testing & training data\n",
    "y_train_low_pred=svm_low.predict(X_train)\n",
    "print(\"Training Accuracy is \", accuracy_score(y_train, y_train_low_pred)*100)\n",
    "y_val_low_pred=svm_low.predict(X_val)\n",
    "print(\"Validation Accuracy is \", accuracy_score(y_val,y_val_low_pred)*100)"
   ]
  },
  {
   "cell_type": "markdown",
   "metadata": {
    "colab_type": "text",
    "id": "TA9xLHAEIKXY"
   },
   "source": [
    "Explain the accuracy results below. "
   ]
  },
  {
   "cell_type": "markdown",
   "metadata": {
    "colab_type": "text",
    "id": "fE_bPc2KISFi"
   },
   "source": [
    "Your answer here <br>\n",
    "high gamma value overfit on the training data <br>\n",
    "but low gamma value performed better on test set"
   ]
  },
  {
   "cell_type": "markdown",
   "metadata": {},
   "source": [
    "## Metrics\n",
    "\n",
    "Print the confusion matrices (both numeric and visualized)"
   ]
  },
  {
   "cell_type": "code",
   "execution_count": 9,
   "metadata": {},
   "outputs": [],
   "source": [
    "# Visualize the confusion matrix\n",
    "def plot_cmatrix(cm,labels,title='Confusion Matrix'):\n",
    "    fig = plt.figure()\n",
    "    ax = fig.add_subplot(111)\n",
    "    cax = ax.matshow(cm,cmap='BuPu')\n",
    "    plt.title('\\n'+title+'\\n', fontsize=20)\n",
    "    fig.colorbar(cax)\n",
    "    ax.set_xticklabels([''] + labels, fontsize=16)\n",
    "    ax.set_yticklabels([''] + labels, fontsize=16)\n",
    "    plt.xlabel('Predicted', fontsize=16)\n",
    "    plt.ylabel('True', fontsize=16)\n",
    "    plt.show()"
   ]
  },
  {
   "cell_type": "code",
   "execution_count": 10,
   "metadata": {},
   "outputs": [
    {
     "data": {
      "image/png": "[encoded data removed]",
      "text/plain": [
       "<Figure size 432x288 with 2 Axes>"
      ]
     },
     "metadata": {
      "needs_background": "light"
     },
     "output_type": "display_data"
    },
    {
     "name": "stdout",
     "output_type": "stream",
     "text": [
      "[[1. 0.]\n",
      " [1. 0.]]\n"
     ]
    },
    {
     "data": {
      "image/png": "[encoded data removed]",
      "text/plain": [
       "<Figure size 432x288 with 2 Axes>"
      ]
     },
     "metadata": {
      "needs_background": "light"
     },
     "output_type": "display_data"
    },
    {
     "name": "stdout",
     "output_type": "stream",
     "text": [
      "[[0.9        0.1       ]\n",
      " [0.56521739 0.43478261]]\n"
     ]
    }
   ],
   "source": [
    "## Confusion matrices\n",
    "\n",
    "# Normalized confusion matrix (high gamma)\n",
    "cm_high = metrics.confusion_matrix(y_val, y_val_high_pred, [0,1])\n",
    "cm_high_norm = cm_high.astype('float') / cm_high.sum(axis=1)[:, np.newaxis]\n",
    "plot_cmatrix(cm_high,[0,1],title='Normalized Confusion Matrix (high)')\n",
    "print(cm_high_norm)\n",
    "\n",
    "# Normalized confusion matrix (high gamma)\n",
    "cm_low = metrics.confusion_matrix(y_val, y_val_low_pred, [0,1])\n",
    "cm_low_norm = cm_low.astype('float') / cm_low.sum(axis=1)[:, np.newaxis]\n",
    "plot_cmatrix(cm_low,[0,1],title='Normalized Confusion Matrix (low)')\n",
    "print(cm_low_norm)"
   ]
  }
 ],
 "metadata": {
  "colab": {
   "collapsed_sections": [],
   "default_view": {},
   "name": "SVMWorksheetTeacher",
   "provenance": [
    {
     "file_id": "165CSmT99w4_Sv1UENIyvIkH7ZEw2Xeh8",
     "timestamp": 1527780043079
    }
   ],
   "version": "0.3.2",
   "views": {}
  },
  "kernelspec": {
   "display_name": "Python 3",
   "language": "python",
   "name": "python3"
  },
  "language_info": {
   "codemirror_mode": {
    "name": "ipython",
    "version": 3
   },
   "file_extension": ".py",
   "mimetype": "text/x-python",
   "name": "python",
   "nbconvert_exporter": "python",
   "pygments_lexer": "ipython3",
   "version": "3.7.3"
  }
 },
 "nbformat": 4,
 "nbformat_minor": 1
}
